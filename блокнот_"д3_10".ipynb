{
  "nbformat": 4,
  "nbformat_minor": 0,
  "metadata": {
    "colab": {
      "provenance": [],
      "authorship_tag": "ABX9TyMBEy79OX+TvymCZ0G7DpeT",
      "include_colab_link": true
    },
    "kernelspec": {
      "name": "python3",
      "display_name": "Python 3"
    },
    "language_info": {
      "name": "python"
    }
  },
  "cells": [
    {
      "cell_type": "markdown",
      "metadata": {
        "id": "view-in-github",
        "colab_type": "text"
      },
      "source": [
        "<a href=\"https://colab.research.google.com/github/ZozolNat/teor_veroiatnosti-i-stat/blob/main/%D0%B1%D0%BB%D0%BE%D0%BA%D0%BD%D0%BE%D1%82_%22%D0%B43_10%22.ipynb\" target=\"_parent\"><img src=\"https://colab.research.google.com/assets/colab-badge.svg\" alt=\"Open In Colab\"/></a>"
      ]
    },
    {
      "cell_type": "markdown",
      "source": [
        "#1) Провести дисперсионный анализ для определения того, есть ли различия среднего роста среди взрослых футболистов, хоккеистов и штангистов. Даны значения роста в трех группах случайно выбранных спортсменов: Футболисты: 173, 175, 180, 178, 177, 185, 183, 182. Хоккеисты: 177, 179, 180, 188, 177, 172, 171, 184, 180. Штангисты: 172, 173, 169, 177, 166, 180, 178, 177, 172, 166, 170.\n",
        "\n",
        "\n",
        "описание и решение\n",
        "\n",
        "здесь можно использовать однофакторный дисперсионный анализа, так как только один фактор ( какие-то спортсмены/тип, а именно хоккеисты, футболисты, штангисты) и надо опредлить влияние этого фактора на рост.   Также нужно обратить внимание , что выборки неоднородные.\n",
        "\n",
        "\n",
        "\n",
        "\n",
        "А)надо проверить сначала на нормальность (тест Шапиро-Уилк).\n",
        "\n",
        "Б)потом проверить на однородность, так как выборки неоднородные - разный обьем( разное коллличество значений дано)- тест Бартлетта?\n",
        "\n",
        "в) далее если нормальное и однородное делаем дисперс инный анализ\n",
        "\n",
        "Г или альтернатива ???) т.к надо определить различия, значит можно использовать (ANOVA) используется для определения статистической значимости различий между средними значениями двух или более групп. , принимая по умолчанию однородность и нормальность. "
      ],
      "metadata": {
        "id": "TtEGr1uN1k2r"
      }
    },
    {
      "cell_type": "code",
      "source": [
        "#А)надо проверить сначала на нормальность (тест Шапиро-Уилк).\n",
        "import numpy as np\n",
        "from scipy import stats\n",
        "\n",
        "# Задаем значения роста для каждой группы спортсменов\n",
        "footballers = np.array([173, 175, 180, 178, 177, 185, 183, 182])\n",
        "hockey_players = np.array([177, 179, 180, 188, 177, 172, 171, 184, 180])\n",
        "weightlifters = np.array([172, 173, 169, 177, 166, 180, 178, 177, 172, 166, 170])\n",
        "\n",
        "# Проверяем нормальность распределения в каждой группе\n",
        "_, p_footballers = stats.shapiro(footballers)\n",
        "_, p_hockey_players = stats.shapiro(hockey_players)\n",
        "_, p_weightlifters = stats.shapiro(weightlifters)\n",
        "\n",
        "# Уровень значимости для проверки нормальности\n",
        "alpha_normality = 0.05\n",
        "\n",
        "# Проверяем нормальность распределения в каждой группе\n",
        "if p_footballers > alpha_normality and p_hockey_players > alpha_normality and p_weightlifters > alpha_normality:\n",
        "    print(\"Распределение в каждой группе является нормальным.\")\n",
        "else:\n",
        "    print(\"Внимание: Распределение в одной или нескольких группах не является нормальным.\")\n",
        "    \n",
        "# Продолжаем проведение дисперсионного анализа только при условии нормальности распределения, см. ниже в комминте\n",
        "\"\"\"if p_footballers > alpha_normality and p_hockey_players > alpha_normality and p_weightlifters > alpha_normality:\n",
        "    # Выполняем остальные шаги дисперсионного анализа\n",
        "    mean_footballers = np.mean(footballers)\n",
        "    mean_hockey_players = np.mean(hockey_players)\n",
        "    mean_weightlifters = np.mean(weightlifters)\n",
        "\n",
        "    # Остальной код для проведения дисперсионного анализа\n",
        "    # ...\n",
        "else:\n",
        "    print(\"Невозможно провести дисперсионный анализ из-за нарушения условия нормальности распределения.\")\n",
        "\"\"\"\n"
      ],
      "metadata": {
        "colab": {
          "base_uri": "https://localhost:8080/",
          "height": 87
        },
        "id": "fpi2ry8K11YC",
        "outputId": "42620133-39b5-499a-92bb-ea5c8a72c64e"
      },
      "execution_count": 12,
      "outputs": [
        {
          "output_type": "stream",
          "name": "stdout",
          "text": [
            "Распределение в каждой группе является нормальным.\n"
          ]
        },
        {
          "output_type": "execute_result",
          "data": {
            "text/plain": [
              "'if p_footballers > alpha_normality and p_hockey_players > alpha_normality and p_weightlifters > alpha_normality:\\n    # Выполняем остальные шаги дисперсионного анализа\\n    mean_footballers = np.mean(footballers)\\n    mean_hockey_players = np.mean(hockey_players)\\n    mean_weightlifters = np.mean(weightlifters)\\n\\n    # Остальной код для проведения дисперсионного анализа\\n    # ...\\nelse:\\n    print(\"Невозможно провести дисперсионный анализ из-за нарушения условия нормальности распределения.\")\\n'"
            ],
            "application/vnd.google.colaboratory.intrinsic+json": {
              "type": "string"
            }
          },
          "metadata": {},
          "execution_count": 12
        }
      ]
    },
    {
      "cell_type": "markdown",
      "source": [
        "получаем итог, что распределение нормальное ( почему выводится комминт в ответ не поняла?!)\n",
        "\n",
        "Переходим к пункту Б"
      ],
      "metadata": {
        "id": "s4vOvVDA2Xbs"
      }
    },
    {
      "cell_type": "code",
      "source": [
        "#Б)потом проверить на однородность, так как выборки неоднородные - разный обьем( разное коллличество значений дано)- тест Бартлетта?\n",
        "import numpy as np\n",
        "from scipy import stats\n",
        "\n",
        "# Задаем значения роста для каждой группы спортсменов\n",
        "footballers = np.array([173, 175, 180, 178, 177, 185, 183, 182])\n",
        "hockey_players = np.array([177, 179, 180, 188, 177, 172, 171, 184, 180])\n",
        "weightlifters = np.array([172, 173, 169, 177, 166, 180, 178, 177, 172, 166, 170])\n",
        "\n",
        "# Проверяем однородность дисперсий между группами\n",
        "_, p_homogeneity = stats.levene(footballers, hockey_players, weightlifters)\n",
        "\n",
        "# Уровень значимости для проверки однородности дисперсий\n",
        "alpha_homogeneity = 0.05\n",
        "\n",
        "# Проверяем однородность дисперсий между группами\n",
        "if p_homogeneity > alpha_homogeneity:\n",
        "    print(\"Дисперсии между группами однородны.\")\n",
        "else:\n",
        "    print(\"Внимание: Дисперсии между группами неоднородны.\")\n",
        "\n",
        "# Продолжаем проведение дисперсионного анализа только при условии однородности дисперсий\n",
        "\"\"\"if p_homogeneity > alpha_homogeneity:\n",
        "    # Выполняем остальные шаги дисперсионного анализа\n",
        "    mean_footballers = np.mean(footballers)\n",
        "    mean_hockey_players = np.mean(hockey_players)\n",
        "    mean_weightlifters = np.mean(weightlifters)\n",
        "\n",
        "    # Остальной код для проведения дисперсионного анализа\n",
        "    # ...\n",
        "else:\n",
        "    print(\"Невозможно провести дисперсионный анализ из-за нарушения условия однородности дисперсий.\")\n",
        "    \"\"\"\n"
      ],
      "metadata": {
        "colab": {
          "base_uri": "https://localhost:8080/",
          "height": 87
        },
        "id": "qvb8hRonPsQY",
        "outputId": "f51f9145-a1b6-403e-8fba-10b66a6341d9"
      },
      "execution_count": 13,
      "outputs": [
        {
          "output_type": "stream",
          "name": "stdout",
          "text": [
            "Дисперсии между группами однородны.\n"
          ]
        },
        {
          "output_type": "execute_result",
          "data": {
            "text/plain": [
              "'if p_homogeneity > alpha_homogeneity:\\n    # Выполняем остальные шаги дисперсионного анализа\\n    mean_footballers = np.mean(footballers)\\n    mean_hockey_players = np.mean(hockey_players)\\n    mean_weightlifters = np.mean(weightlifters)\\n\\n    # Остальной код для проведения дисперсионного анализа\\n    # ...\\nelse:\\n    print(\"Невозможно провести дисперсионный анализ из-за нарушения условия однородности дисперсий.\")\\n    '"
            ],
            "application/vnd.google.colaboratory.intrinsic+json": {
              "type": "string"
            }
          },
          "metadata": {},
          "execution_count": 13
        }
      ]
    },
    {
      "cell_type": "markdown",
      "source": [
        "Итог: однородность дисперсии и выполняется условие нормальности выполняем В"
      ],
      "metadata": {
        "id": "woIZbYVSBAon"
      }
    },
    {
      "cell_type": "code",
      "source": [
        "#в) проводим дисперссионный анализ\n",
        "import numpy as np\n",
        "from scipy import stats\n",
        "\n",
        "# Задаем значения роста для каждой группы спортсменов\n",
        "footballers = np.array([173, 175, 180, 178, 177, 185, 183, 182])\n",
        "hockey_players = np.array([177, 179, 180, 188, 177, 172, 171, 184, 180])\n",
        "weightlifters = np.array([172, 173, 169, 177, 166, 180, 178, 177, 172, 166, 170])\n",
        "\n",
        "# Вычисляем среднее значение роста для каждой группы\n",
        "mean_footballers = np.mean(footballers)\n",
        "mean_hockey_players = np.mean(hockey_players)\n",
        "mean_weightlifters = np.mean(weightlifters)\n",
        "\n",
        "# Вычисляем сумму квадратов отклонений каждого значения роста от общего среднего значения\n",
        "overall_mean = np.mean(np.concatenate([footballers, hockey_players, weightlifters]))\n",
        "ss_between = len(footballers) * (mean_footballers - overall_mean) ** 2 + len(hockey_players) * (mean_hockey_players - overall_mean) ** 2 + len(weightlifters) * (mean_weightlifters - overall_mean) ** 2\n",
        "\n",
        "# Вычисляем сумму квадратов отклонений средних значений роста групп от общего среднего значения\n",
        "ss_within = np.sum((footballers - mean_footballers) ** 2) + np.sum((hockey_players - mean_hockey_players) ** 2) + np.sum((weightlifters - mean_weightlifters) ** 2)\n",
        "\n",
        "# Вычисляем факторную дисперсию и остаточную дисперсию\n",
        "df_between = 2  # Число групп - 1\n",
        "df_within = len(footballers) + len(hockey_players) + len(weightlifters) - 3  # Общее число наблюдений - число групп\n",
        "ms_between = ss_between / df_between\n",
        "ms_within = ss_within / df_within\n",
        "\n",
        "# Вычисляем F-статистику\n",
        "f_statistic = ms_between / ms_within\n",
        "\n",
        "# Задаем уровень значимости\n",
        "alpha = 0.05\n",
        "\n",
        "# Вычисляем критическое значение F-статистики\n",
        "critical_value = stats.f.ppf(1 - alpha, df_between, df_within)\n",
        "\n",
        "# Выводим результаты\n",
        "print(\"F-статистика:\", f_statistic)\n",
        "print(\"Критическое значение F:\", critical_value)\n",
        "\n",
        "# Проверяем статистическую значимость различий\n",
        "if f_statistic > critical_value:\n",
        "    print(\"Существуют статистически значимые различия в среднем росте между группами.\")\n",
        "else:\n",
        "  print(\"Нет статистически значимых различий в среднем росте между группами.\")"
      ],
      "metadata": {
        "colab": {
          "base_uri": "https://localhost:8080/"
        },
        "id": "Bh3UvBHnWYuI",
        "outputId": "b7315631-df2c-4f5f-8131-3f8ff35ac892"
      },
      "execution_count": 18,
      "outputs": [
        {
          "output_type": "stream",
          "name": "stdout",
          "text": [
            "F-статистика: 5.500053450812598\n",
            "Критическое значение F: 3.3851899614491687\n",
            "Существуют статистически значимые различия в среднем росте между группами.\n"
          ]
        }
      ]
    },
    {
      "cell_type": "markdown",
      "source": [
        "\n",
        "* F-статистики равно 5.5, что означает, что различия в среднем росте между группами футболистов, хоккеистов и штангистов не могут быть объяснены случайностью, значит различия  между группами спортсменов существенны и имеют значимость.\n",
        "\n",
        "** так как однофакторный дисперсионного анализа .Можно также использовать (ANOVA), при услови принятия данных о нормальности и однородности ( Г)\n",
        "\n",
        "\n",
        "\n"
      ],
      "metadata": {
        "id": "hKWs9GYDG1rD"
      }
    },
    {
      "cell_type": "code",
      "source": [
        "#Г или использование ANOVA, так как он позволяет оценить дисперсию между группами и дисперсию внутри каждой группы. также получаем значение F-статистики и можем сравнить эти дисперсии (межгрупповую и внутрегруппвую) и определить, есть ли статистически значимые различия между группами.\n",
        "import numpy as np\n",
        "from scipy.stats import f_oneway\n",
        "\n",
        "# Заданные значения роста для каждой группы спортсменов\n",
        "footballers = [173, 175, 180, 178, 177, 185, 183, 182]\n",
        "hockey_players = [177, 179, 180, 188, 177, 172, 171, 184, 180]\n",
        "weightlifters = [172, 173, 169, 177, 166, 180, 178, 177, 172, 166, 170]\n",
        "\n",
        "# Применение однофакторного ANOVA\n",
        "f_value, p_value = f_oneway(footballers, hockey_players, weightlifters)\n",
        "\n",
        "# Вывод результатов\n",
        "print(\"Значение F-статистики:\", f_value)\n",
        "print(\"p-значение:\", p_value)\n",
        "\n",
        "# Проверка статистической значимости различий\n",
        "if p_value < 0.05:\n",
        "    print(\"Существуют статистически значимые различия в среднем росте между группами спортсменов.\")\n",
        "else:\n",
        "    print(\"Нет статистически значимых различий в среднем росте между группами спортсменов.\")\n"
      ],
      "metadata": {
        "colab": {
          "base_uri": "https://localhost:8080/"
        },
        "id": "ug50xhzPXaTv",
        "outputId": "5380dff4-13a8-47eb-d01e-b7dd0c7e04db"
      },
      "execution_count": 21,
      "outputs": [
        {
          "output_type": "stream",
          "name": "stdout",
          "text": [
            "Значение F-статистики: 5.500053450812596\n",
            "p-значение: 0.010482206918698694\n",
            "Существуют статистически значимые различия в среднем росте между группами спортсменов.\n"
          ]
        }
      ]
    },
    {
      "cell_type": "markdown",
      "source": [
        "**Результатом тут является значение F-статистики и p-значение. Если p-значение меньше заданного уровня значимости ( 0.05), делаем вывод о наличии статистически значимых различий в среднем росте между группами спортсменов, если  p-значение больше уровня значимости, различия считаются незначимыми."
      ],
      "metadata": {
        "id": "f6XfjkORXmXZ"
      }
    },
    {
      "cell_type": "markdown",
      "source": [
        "**** for me\n",
        "\n",
        "P-значение (p-value) - это вероятность получить такие или еще более экстремальные результаты, если нулевая гипотеза верна. В контексте дисперсионного анализа (ANOVA), p-значение используется для определения статистической значимости различий между группами. Если p-значение меньше установленного уровня значимости (обычно выбирается 0.05), то различия считаются статистически значимыми, и отвергается нулевая гипотеза.\n",
        "\n",
        "Критическое значение (critical value) - это значение, используемое для принятия решения о принятии или отвержении нулевой гипотезы на основе статистического теста. Критическое значение зависит от выбранного уровня значимости и степеней свободы теста. Если статистическое значение превышает критическое значение, то нулевая гипотеза отвергается, и различия считаются статистически значимыми.\n",
        "\n",
        "Таким образом, p-значение и критическое значение предоставляют информацию о статистической значимости результатов статистического теста, но их интерпретация и использование могут отличаться. P-значение является вероятностью, в то время как критическое значение является пороговым значением для принятия решения."
      ],
      "metadata": {
        "id": "3imbH0EesT-s"
      }
    }
  ]
}