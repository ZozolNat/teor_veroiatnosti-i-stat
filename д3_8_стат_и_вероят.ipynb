{
  "nbformat": 4,
  "nbformat_minor": 0,
  "metadata": {
    "colab": {
      "provenance": [],
      "authorship_tag": "ABX9TyM97vt8pbnBhffaN3m0TIb4",
      "include_colab_link": true
    },
    "kernelspec": {
      "name": "python3",
      "display_name": "Python 3"
    },
    "language_info": {
      "name": "python"
    }
  },
  "cells": [
    {
      "cell_type": "markdown",
      "metadata": {
        "id": "view-in-github",
        "colab_type": "text"
      },
      "source": [
        "<a href=\"https://colab.research.google.com/github/ZozolNat/teor_veroiatnosti-i-stat/blob/main/%D0%B43_8_%D1%81%D1%82%D0%B0%D1%82_%D0%B8_%D0%B2%D0%B5%D1%80%D0%BE%D1%8F%D1%82.ipynb\" target=\"_parent\"><img src=\"https://colab.research.google.com/assets/colab-badge.svg\" alt=\"Open In Colab\"/></a>"
      ]
    },
    {
      "cell_type": "markdown",
      "source": [
        "#1) Даны значения величины заработной платы заемщиков банка (zp) и значения их поведенческого кредитного скоринга (ks): zp = [35, 45, 190, 200, 40, 70, 54, 150, 120, 110], ks = [401, 574, 874, 919, 459, 739, 653, 902, 746, 832]. Найдите ковариацию этих двух величин с помощью элементарных действий, а затем с помощью функции cov из numpy. Полученные значения должны быть равны. Найдите коэффициент корреляции Пирсона с помощью ковариации и среднеквадратичных отклонений двух признаков, а затем с использованием функций из библиотек numpy и pandas. \n",
        "\n",
        "\n",
        "описание и решение\n",
        "\n",
        " считаем ковариацию в ручную по формуле \n",
        "\n",
        "cov(X, Y) = (Σ((x_i - mean(X)) * (y_i - mean(Y)))) / (n), где X и Y - две случайные величины, x_i и y_i - их соответствующие значения, mean(X) и mean(Y) - средние значения, а n - количество наблюдений.\n",
        "\n",
        "сначала надр найти средние значении как в предыдущих задачах ДЗ ( сумма значений/ на длину ( колличество значений)), получается \n",
        "\n",
        "mean_zp = (35 + 45 + 190 + 200 + 40 + 70 + 54 + 150 + 120 + 110) / 10 = 101.4\n",
        "\n",
        "mean_ks = (401 + 574 + 874 + 919 + 459 + 739 + 653 + 902 + 746 + 832) / 10 = 709.9\n",
        "\n",
        "далее считаем ковариацию по формуле указанной выше\n",
        "\n",
        "cov = ((zp[0] - mean_zp) * (ks[0] - mean_ks) + \n",
        "       (zp[1] - mean_zp) * (ks[1] - mean_ks) + \n",
        "       (zp[2] - mean_zp) * (ks[2] - mean_ks) + \n",
        "       (zp[3] - mean_zp) * (ks[3] - mean_ks) + \n",
        "       (zp[4] - mean_zp) * (ks[4] - mean_ks) + \n",
        "       (zp[5] - mean_zp) * (ks[5] - mean_ks) + \n",
        "       (zp[6] - mean_zp) * (ks[6] - mean_ks) + \n",
        "       (zp[7] - mean_zp) * (ks[7] - mean_ks) + \n",
        "       (zp[8] - mean_zp) * (ks[8] - mean_ks) + \n",
        "       (zp[9] - mean_zp) * (ks[9] - mean_ks)) / (10 ) =\n",
        "       = ((35 - mean_zp) * (401 - mean_ks) + \n",
        "       (45 - mean_zp) * (574 - mean_ks) + \n",
        "       (190 - mean_zp) * (874 - mean_ks) + \n",
        "       (200 - mean_zp) * (919 - mean_ks) + \n",
        "       (40 - mean_zp) * (459 - mean_ks) + \n",
        "       (70 - mean_zp) * (739 - mean_ks) + \n",
        "       (54 - mean_zp) * (653 - mean_ks) + \n",
        "       (150 - mean_zp) * (902 - mean_ks) + \n",
        "       (120 - mean_zp) * (746 - mean_ks) + \n",
        "       (110 - mean_zp) * (832 - mean_ks)) / (10) = (-7151.66 + 1454.94 + 2927.24 + 3427.96 - 6937.36 + 3593.76 + 1801.64 + 4545.26 + 2861.04 + 3160.76) / 10 = 9157.8\n",
        "\n"
      ],
      "metadata": {
        "id": "TtEGr1uN1k2r"
      }
    },
    {
      "cell_type": "code",
      "source": [
        "import numpy as np\n",
        "\n",
        "zp = [35, 45, 190, 200, 40, 70, 54, 150, 120, 110]\n",
        "ks = [401, 574, 874, 919, 459, 739, 653, 902, 746, 832]\n",
        "\n",
        "mean_zp = np.mean(zp)\n",
        "mean_ks = np.mean(ks)\n",
        "\n",
        "n = len(zp)\n",
        "\n",
        "cov = np.sum((zp - mean_zp) * (ks - mean_ks)) / n\n",
        "\n",
        "print(cov)\n",
        "# считаем в пайтон с учетом указанной формулы"
      ],
      "metadata": {
        "colab": {
          "base_uri": "https://localhost:8080/"
        },
        "id": "qvb8hRonPsQY",
        "outputId": "943a2a7b-5aa1-4983-e9db-6807f1d6cc9a"
      },
      "execution_count": 6,
      "outputs": [
        {
          "output_type": "stream",
          "name": "stdout",
          "text": [
            "9157.84\n"
          ]
        }
      ]
    },
    {
      "cell_type": "markdown",
      "source": [
        "теперь с помощью функции cov из numpy"
      ],
      "metadata": {
        "id": "_WgupSfeSOyC"
      }
    },
    {
      "cell_type": "code",
      "execution_count": 3,
      "metadata": {
        "colab": {
          "base_uri": "https://localhost:8080/"
        },
        "id": "tJ156CdW0jzt",
        "outputId": "f6901e60-d701-4c92-aed1-8b0ecab9a4e1"
      },
      "outputs": [
        {
          "output_type": "stream",
          "name": "stdout",
          "text": [
            "ковариация: 9157.84\n"
          ]
        }
      ],
      "source": [
        "import numpy as np\n",
        "\n",
        "zp = [35, 45, 190, 200, 40, 70, 54, 150, 120, 110]\n",
        "ks = [401, 574, 874, 919, 459, 739, 653, 902, 746, 832]\n",
        "\n",
        "cov = np.cov(zp, ks, ddof=0)[0, 1]\n",
        "print(\"ковариация:\", cov)\n"
      ]
    },
    {
      "cell_type": "markdown",
      "source": [
        "Дале для вычисления коэффициента корреляции Пирсона с помощью ковариации и среднеквадратичных отклонений двух признаков можно используем формулу: corr = cov / (std_zp * std_ks), где cov - ковариация между признаками, std_zp - стандартное отклонение признака zp, std_ks - стандартное отклонение признака ks.\n",
        "\n",
        "*ищем с использованием NumPy с:\n",
        "\n",
        "import numpy as np\n",
        "\n",
        "cov = np.cov(zp, ks, ddof=1)[0, 1]\n",
        "std_zp = np.std(zp, ddof=1)\n",
        "std_ks = np.std(ks, ddof=1)\n",
        "\n",
        "corr = cov / (std_zp * std_ks)\n",
        "\n",
        "print(corr)\n",
        "\n",
        "\n",
        "**ищем с использованием Pandas:\n",
        "\n",
        "import pandas as pd\n",
        "\n",
        "df = pd.DataFrame({'zp': zp, 'ks': ks})\n",
        "\n",
        "corr = df['zp'].corr(df['ks'])\n",
        "\n",
        "print(corr)\n"
      ],
      "metadata": {
        "id": "s2NcpJvnYAki"
      }
    },
    {
      "cell_type": "code",
      "source": [
        "import numpy as np\n",
        "\n",
        "zp = [35, 45, 190, 200, 40, 70, 54, 150, 120, 110]\n",
        "ks = [401, 574, 874, 919, 459, 739, 653, 902, 746, 832]\n",
        "\n",
        "cov = np.cov(zp, ks, ddof=1)[0, 1]\n",
        "std_zp = np.std(zp, ddof=1)\n",
        "std_ks = np.std(ks, ddof=1)\n",
        "\n",
        "corr = cov / (std_zp * std_ks)\n",
        "\n",
        "print(corr)\n",
        "#с использованием NumPy\n"
      ],
      "metadata": {
        "colab": {
          "base_uri": "https://localhost:8080/"
        },
        "id": "-RTCYH4qU8FG",
        "outputId": "e12b400b-54da-451f-b182-aa3451af6f29"
      },
      "execution_count": 8,
      "outputs": [
        {
          "output_type": "stream",
          "name": "stdout",
          "text": [
            "0.887490092073916\n"
          ]
        }
      ]
    },
    {
      "cell_type": "code",
      "source": [
        "import pandas as pd\n",
        "\n",
        "df = pd.DataFrame({'zp': [35, 45, 190, 200, 40, 70, 54, 150, 120, 110],\n",
        "                   'ks': [401, 574, 874, 919, 459, 739, 653, 902, 746, 832]})\n",
        "\n",
        "corr = df['zp'].corr(df['ks'])\n",
        "\n",
        "print(corr)\n",
        "#с использованием pandAS"
      ],
      "metadata": {
        "colab": {
          "base_uri": "https://localhost:8080/"
        },
        "id": "KcpJT3VZVS6b",
        "outputId": "8faba761-d391-421c-8e51-4efe8fd40356"
      },
      "execution_count": 11,
      "outputs": [
        {
          "output_type": "stream",
          "name": "stdout",
          "text": [
            "0.8874900920739162\n"
          ]
        }
      ]
    },
    {
      "cell_type": "markdown",
      "source": [
        "#2) Измерены значения IQ выборки студентов, обучающихся в местных технических вузах:131, 125, 115, 122, 131, 115, 107, 99, 125, 111. Известно, что в генеральной совокупности IQ распределен нормально. Найдите доверительный интервал для математического ожидания с надежностью 0.95.\n",
        "\n",
        "\n",
        "ОПИСАНИЕ И РЕШЕНИЕ \n",
        "\n",
        "Доверительный интервал = (среднее значение выборки) ± (критическое значение * стандартная ошибка),\n",
        "\n",
        "где:\n",
        "\n",
        "Среднее значение выборки - среднее арифметическое измерений в выборке,\n",
        "Критическое значение - определяется с учетом надежности и размера выборки. Для надежности 0.95 и выборки размером 10 можно использовать критическое значение t-распределения с (n-1) степенями свободы. В данном случае n = 10, поэтому нам понадобится значение t-критерия для 9 степеней свободы,\n",
        "Стандартная ошибка - стандартное отклонение выборки, деленное на квадратный корень из размера выборки.\n",
        "\n",
        "*** СМОТРЕТЬ ЗАДАЧИ В ПРЕДЫДУЩИХ дз, АНАЛОГ.\n",
        "\n",
        "\n",
        "пишем в пайтоне\n"
      ],
      "metadata": {
        "id": "woIZbYVSBAon"
      }
    },
    {
      "cell_type": "code",
      "source": [
        "import numpy as np\n",
        "from scipy.stats import t\n",
        "\n",
        "data = [131, 125, 115, 122, 131, 115, 107, 99, 125, 111]\n",
        "confidence = 0.95\n",
        "\n",
        "mean = np.mean(data)\n",
        "std = np.std(data, ddof=1)\n",
        "n = len(data)\n",
        "critical_value = t.ppf((1 + confidence) / 2, df=n-1)\n",
        "standard_error = std / np.sqrt(n)\n",
        "\n",
        "lower_bound = mean - critical_value * standard_error\n",
        "upper_bound = mean + critical_value * standard_error\n",
        "\n",
        "confidence_interval = (lower_bound, upper_bound)\n",
        "\n",
        "print(\"Доверительный интервал:\", confidence_interval)\n"
      ],
      "metadata": {
        "colab": {
          "base_uri": "https://localhost:8080/"
        },
        "id": "Bh3UvBHnWYuI",
        "outputId": "943bbfb4-1fe9-4546-e17e-6db320d34e43"
      },
      "execution_count": 12,
      "outputs": [
        {
          "output_type": "stream",
          "name": "stdout",
          "text": [
            "Доверительный интервал: (110.55608365158724, 125.64391634841274)\n"
          ]
        }
      ]
    },
    {
      "cell_type": "markdown",
      "source": [
        "Т.о, с надежностью 0.95 можно сказать, что математическое ожидание IQ в генеральной совокупности находится в интервале от 110.56 до 125.64."
      ],
      "metadata": {
        "id": "1Vd1ti1NCTIP"
      }
    },
    {
      "cell_type": "markdown",
      "source": [
        "# 3) Известно, что рост футболистов в сборной распределен нормально с дисперсией генеральной совокупности, равной 25 кв.см. Объем выборки равен 27, среднее выборочное составляет 174.2. Найдите доверительный интервал для математического ожидания с надежностью 0.95.\n",
        "\n",
        "\n",
        "Описание и решение. СМОТРЕТЬ ЗАДАЧУ ВЫШЕ, АНАЛОГ.\n",
        "\n",
        "Доверительный интервал = (среднее значение выборки) ± (критическое значение * стандартная ошибка),\n",
        "\n",
        "где:\n",
        "\n",
        "Среднее значение выборки - среднее арифметическое измерений в выборке,\n",
        "Критическое значение - определяется с учетом надежности и размера выборки. Для надежности 0.95 и выборки размером 27 можно использовать критическое значение t-распределения с (n-1) степенями свободы. В данном случае n = 27, поэтому нам понадобится значение t-критерия для 26 степеней свободы,\n",
        "Стандартная ошибка - стандартное отклонение выборки, деленное на квадратный корень из размера выборки.\n",
        "\n"
      ],
      "metadata": {
        "id": "hKWs9GYDG1rD"
      }
    },
    {
      "cell_type": "code",
      "source": [
        "import numpy as np\n",
        "from scipy.stats import t\n",
        "\n",
        "sample_mean = 174.2\n",
        "sample_size = 27\n",
        "population_variance = 25\n",
        "confidence = 0.95\n",
        "\n",
        "critical_value = t.ppf((1 + confidence) / 2, df=sample_size-1)\n",
        "standard_error = np.sqrt(population_variance / sample_size)\n",
        "\n",
        "lower_bound = sample_mean - critical_value * standard_error\n",
        "upper_bound = sample_mean + critical_value * standard_error\n",
        "\n",
        "confidence_interval = (lower_bound, upper_bound)\n",
        "\n",
        "print(\"Доверительный интервал:\", confidence_interval)\n"
      ],
      "metadata": {
        "colab": {
          "base_uri": "https://localhost:8080/"
        },
        "id": "ug50xhzPXaTv",
        "outputId": "45d9fdf7-9531-4ab9-f47e-21a23229280a"
      },
      "execution_count": 13,
      "outputs": [
        {
          "output_type": "stream",
          "name": "stdout",
          "text": [
            "Доверительный интервал: (172.2220658754539, 176.17793412454608)\n"
          ]
        }
      ]
    },
    {
      "cell_type": "markdown",
      "source": [
        "Т.о., с надежностью 0.95 можно сказать, что математическое ожидание роста футболистов в сборной находится в интервале от 172.22 до 176.17 см."
      ],
      "metadata": {
        "id": "f6XfjkORXmXZ"
      }
    }
  ]
}